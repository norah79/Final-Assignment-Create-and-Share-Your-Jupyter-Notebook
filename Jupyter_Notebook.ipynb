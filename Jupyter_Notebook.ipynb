{
 "cells": [
  {
   "cell_type": "markdown",
   "metadata": {},
   "source": [
    "<center>\n",
    "    <img src=\"https://cf-courses-data.s3.us.cloud-object-storage.appdomain.cloud/IBMDeveloperSkillsNetwork-DS0105EN-SkillsNetwork/labs/Module2/images/SN_web_lightmode.png\" width=\"300\" alt=\"cognitiveclass.ai logo\">\n",
    "</center>\n",
    "\n",
    "\n",
    "\n",
    "\n",
    "# Data Science Tools and Ecosystem\n",
    "\n",
    " In this notebook, Data Science Tools and Ecosystem are summarized.\n",
    "\n",
    "## Some of the popular languages that Data Scientists use are:\n",
    "\n",
    " 1.   Python\n",
    " 2.   C++\n",
    " 3.   R\n",
    "\n",
    "## Some of the commonly used libraries used by Data Scientists include:\n",
    " 1.   TensorFlow\n",
    " 2.   NumPy\n",
    " 3.   SciPy\n",
    "\n",
    "\n",
    "| Data Science Tools |\n",
    "| ------------------ |\n",
    "| Visual Studio |\n",
    "| Google Colab |\n",
    "| Jupyter Notebooks |\n",
    "\n",
    "\n",
    "## Below are a few examples of evaluating arithmetic expressions in Python"
   ]
  },
  {
   "cell_type": "code",
   "execution_count": 1,
   "metadata": {
    "tags": []
   },
   "outputs": [
    {
     "data": {
      "text/html": [
       "17"
      ],
      "text/latex": [
       "17"
      ],
      "text/markdown": [
       "17"
      ],
      "text/plain": [
       "[1] 17"
      ]
     },
     "metadata": {},
     "output_type": "display_data"
    }
   ],
   "source": [
    "#This a simple arithmetic expression to mutiply then add integers\n",
    "(3*4)+5"
   ]
  },
  {
   "cell_type": "code",
   "execution_count": 2,
   "metadata": {
    "tags": []
   },
   "outputs": [
    {
     "data": {
      "text/html": [
       "3.33333333333333"
      ],
      "text/latex": [
       "3.33333333333333"
      ],
      "text/markdown": [
       "3.33333333333333"
      ],
      "text/plain": [
       "[1] 3.333333"
      ]
     },
     "metadata": {},
     "output_type": "display_data"
    }
   ],
   "source": [
    "#This will convert 200 minutes to hours by diving by 60\n",
    "200/60"
   ]
  },
  {
   "cell_type": "markdown",
   "metadata": {},
   "source": [
    "##  Objectives:\n",
    "\n",
    "In this final assignment, you will:\n",
    "\n",
    "*   Create a Jupyter Notebook\n",
    "*   Insert code and markdown cells\n",
    "*   Share your notebook through GitHub\n",
    "\n",
    "\n",
    "# Author\n",
    "\n",
    "Norah "
   ]
  }
 ],
 "metadata": {
  "kernelspec": {
   "display_name": "R",
   "language": "R",
   "name": "conda-env-r-r"
  },
  "language_info": {
   "codemirror_mode": "r",
   "file_extension": ".r",
   "mimetype": "text/x-r-source",
   "name": "R",
   "pygments_lexer": "r",
   "version": "3.5.1"
  }
 },
 "nbformat": 4,
 "nbformat_minor": 4
}
